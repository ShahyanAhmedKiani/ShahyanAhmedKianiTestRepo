{
 "cells": [
  {
   "cell_type": "markdown",
   "metadata": {},
   "source": [
    "# Advanced Cipher Techniques"
   ]
  },
  {
   "cell_type": "markdown",
   "metadata": {},
   "source": [
    "# 01. Hill Cipher Encryption and Decryption\n",
    "\n",
    "## **Hill Cipher Overview**\n",
    "The Hill Cipher is a polygraphic substitution cipher that uses linear algebra for encryption. It operates on blocks of letters and utilizes matrix multiplication for its computations.\n",
    "\n",
    "### **Encryption Process**\n",
    "1. **Key Matrix**: Choose a square key matrix (e.g., 2x2 or 3x3) with integer values. Ensure the determinant of the matrix is non-zero and coprime with 26 (for modular arithmetic).\n",
    "2. **Plaintext Preparation**: Convert plaintext into numerical form (A=0, B=1, ..., Z=25). For a matrix of size NxN, pad the plaintext if its length is not a multiple of N.\n",
    "3. **Matrix Multiplication**: Multiply the key matrix with the plaintext vector and take modulo 26 for each resulting element.\n",
    "4. **Ciphertext Conversion**: Convert the resulting numerical values back to letters.\n",
    "\n",
    "---\n",
    "\n",
    "### **Encryption Dry Run**\n",
    "#### Input:\n",
    "- Plaintext: `ZIAURREHMAN`\n",
    "- Key Matrix: \n",
    "   ```\n",
    "  K = |  6  24 |\n",
    "       |  1  13 |\n",
    "  ```\n",
    "- Modulo: 26\n",
    "\n",
    "#### Steps:\n",
    "1. Convert plaintext into numerical values (ignoring spaces):\n",
    "   - Z = 25, I = 8, A = 0, U = 20, R = 17, R = 17, E = 4, H = 7, M = 12, A = 0, N = 13\n",
    "   - Numerical form: `[25, 8, 0, 20, 17, 17, 4, 7, 12, 0, 13]`\n",
    "\n",
    "2. Group into 2x1 column vectors (since the key matrix is 2x2):\n",
    "   ```\n",
    "   [25, 8], [0, 20], [17, 17], [4, 7], [12, 0], [13, 0]\n",
    "   ```\n",
    "\n",
    "3. Multiply each vector by the key matrix and take modulo 26:\n",
    "   - For [25, 8]:\n",
    "     ```\n",
    "     C = (K * P) mod 26 = |  6  24 |   | 25 |\n",
    "                          |  1  13 | * |  8 | mod 26 = |  4 |\n",
    "                                                       | 25 |\n",
    "     ```\n",
    "     Result: `E, Z`\n",
    "   - Repeat for all vectors.\n",
    "\n",
    "4. Resulting Ciphertext:\n",
    "   - Ciphertext: `EZMAQEKRUMGA`\n",
    "\n",
    "---"
   ]
  },
  {
   "cell_type": "markdown",
   "metadata": {},
   "source": [
    "### **Python Implementation**\n",
    "\n",
    "#### **Encryption Function:**"
   ]
  },
  {
   "cell_type": "code",
   "execution_count": 1,
   "metadata": {},
   "outputs": [
    {
     "name": "stdout",
     "output_type": "stream",
     "text": [
      "Ciphertext: EZMAQEKRUMGA\n"
     ]
    }
   ],
   "source": [
    "import numpy as np\n",
    "\n",
    "def hill_cipher_encrypt(plaintext, key):\n",
    "    alphabet = 'ABCDEFGHIJKLMNOPQRSTUVWXYZ'\n",
    "    plaintext = plaintext.replace(\" \", \"\").upper()\n",
    "    # Convert plaintext to numerical values\n",
    "    plaintext_nums = [alphabet.index(char) for char in plaintext]\n",
    "\n",
    "    # Pad plaintext if necessary\n",
    "    n = key.shape[0]\n",
    "    while len(plaintext_nums) % n != 0:\n",
    "        plaintext_nums.append(alphabet.index('X'))  # Padding with 'X'\n",
    "\n",
    "    # Reshape plaintext into column vectors\n",
    "    plaintext_matrix = np.array(plaintext_nums).reshape(-1, n).T\n",
    "\n",
    "    # Encrypt: Ciphertext = (Key * Plaintext) mod 26\n",
    "    ciphertext_matrix = (np.dot(key, plaintext_matrix) % 26).T\n",
    "\n",
    "    # Convert back to letters\n",
    "    ciphertext = ''.join(alphabet[num] for row in ciphertext_matrix for num in row)\n",
    "    return ciphertext\n",
    "\n",
    "# Example\n",
    "key = np.array([[6, 24], [1, 13]])\n",
    "plaintext = \"ZIAURREHMAN\"\n",
    "ciphertext = hill_cipher_encrypt(plaintext, key)\n",
    "print(\"Ciphertext:\", ciphertext)"
   ]
  },
  {
   "cell_type": "markdown",
   "metadata": {},
   "source": [
    "C_i = (P_i + K_i) % 26"
   ]
  },
  {
   "cell_type": "code",
   "execution_count": 2,
   "metadata": {},
   "outputs": [
    {
     "name": "stdout",
     "output_type": "stream",
     "text": [
      "Ciphertext: RIJVS\n"
     ]
    }
   ],
   "source": [
    "def vigenere_encrypt(plaintext, keyword):\n",
    "    alphabet = 'ABCDEFGHIJKLMNOPQRSTUVWXYZ'\n",
    "    keyword_repeated = (keyword.upper() * (len(plaintext) // len(keyword) + 1))[:len(plaintext)]\n",
    "    \n",
    "    ciphertext = ''\n",
    "    for p, k in zip(plaintext.upper(), keyword_repeated):\n",
    "        shift = (alphabet.index(p) + alphabet.index(k)) % 26\n",
    "        ciphertext += alphabet[shift]\n",
    "    \n",
    "    return ciphertext\n",
    "\n",
    "# Example\n",
    "plaintext = \"HELLO\"\n",
    "keyword = \"KEY\"\n",
    "ciphertext = vigenere_encrypt(plaintext, keyword)\n",
    "print(\"Ciphertext:\", ciphertext)\n"
   ]
  },
  {
   "cell_type": "code",
   "execution_count": 3,
   "metadata": {},
   "outputs": [
    {
     "name": "stdout",
     "output_type": "stream",
     "text": [
      "Ciphertext: HOELL\n"
     ]
    }
   ],
   "source": [
    "# Example plaintext\n",
    "plaintext = \"HELLO\"\n",
    "rails = 3\n",
    "\n",
    "# Encryption function\n",
    "def rail_fence_encrypt(plaintext, rails):\n",
    "    fence = [['' for _ in range(len(plaintext))] for _ in range(rails)]\n",
    "    row, col = 0, 0\n",
    "    direction = 1  # 1 means moving down, -1 means moving up\n",
    "\n",
    "    for char in plaintext:\n",
    "        fence[row][col] = char\n",
    "        col += 1\n",
    "        row += direction\n",
    "\n",
    "        if row == 0 or row == rails - 1:\n",
    "            direction *= -1\n",
    "\n",
    "    ciphertext = ''.join(''.join(row) for row in fence)\n",
    "    return ciphertext\n",
    "\n",
    "# Encrypt the plaintext\n",
    "ciphertext = rail_fence_encrypt(plaintext, rails)\n",
    "print(f\"Ciphertext: {ciphertext}\")\n"
   ]
  },
  {
   "cell_type": "markdown",
   "metadata": {},
   "source": []
  },
  {
   "cell_type": "code",
   "execution_count": 4,
   "metadata": {},
   "outputs": [
    {
     "name": "stdout",
     "output_type": "stream",
     "text": [
      "Ciphertext: EQNVZ\n"
     ]
    }
   ],
   "source": [
    "def otp_encrypt(plaintext, key):\n",
    "    # Ensure that plaintext and key are the same length\n",
    "    if len(plaintext) != len(key):\n",
    "        raise ValueError(\"Plaintext and key must have the same length.\")\n",
    "    \n",
    "    ciphertext = []\n",
    "    for p_char, k_char in zip(plaintext, key):\n",
    "        # Convert characters to numbers (A=0, B=1, ..., Z=25)\n",
    "        p_val = ord(p_char) - ord('A')\n",
    "        k_val = ord(k_char) - ord('A')\n",
    "        \n",
    "        # Apply the encryption formula\n",
    "        c_val = (p_val + k_val) % 26\n",
    "        \n",
    "        # Convert back to character and append to the ciphertext\n",
    "        ciphertext.append(chr(c_val + ord('A')))\n",
    "    \n",
    "    return ''.join(ciphertext)\n",
    "\n",
    "# Example plaintext and key\n",
    "plaintext = \"HELLO\"\n",
    "key = \"XMCKL\"\n",
    "\n",
    "# Encrypt the plaintext using the One-Time Pad Cipher\n",
    "ciphertext = otp_encrypt(plaintext, key)\n",
    "print(f\"Ciphertext: {ciphertext}\")\n",
    "\n"
   ]
  },
  {
   "cell_type": "code",
   "execution_count": 7,
   "metadata": {},
   "outputs": [
    {
     "ename": "ModuleNotFoundError",
     "evalue": "No module named 'Crypto'",
     "output_type": "error",
     "traceback": [
      "\u001b[1;31m---------------------------------------------------------------------------\u001b[0m",
      "\u001b[1;31mModuleNotFoundError\u001b[0m                       Traceback (most recent call last)",
      "Cell \u001b[1;32mIn[7], line 1\u001b[0m\n\u001b[1;32m----> 1\u001b[0m \u001b[38;5;28;01mfrom\u001b[39;00m \u001b[38;5;21;01mCrypto\u001b[39;00m\u001b[38;5;21;01m.\u001b[39;00m\u001b[38;5;21;01mCipher\u001b[39;00m \u001b[38;5;28;01mimport\u001b[39;00m DES\n\u001b[0;32m      2\u001b[0m \u001b[38;5;28;01mfrom\u001b[39;00m \u001b[38;5;21;01mCrypto\u001b[39;00m\u001b[38;5;21;01m.\u001b[39;00m\u001b[38;5;21;01mUtil\u001b[39;00m\u001b[38;5;21;01m.\u001b[39;00m\u001b[38;5;21;01mPadding\u001b[39;00m \u001b[38;5;28;01mimport\u001b[39;00m pad, unpad\n\u001b[0;32m      3\u001b[0m \u001b[38;5;28;01mfrom\u001b[39;00m \u001b[38;5;21;01mCrypto\u001b[39;00m\u001b[38;5;21;01m.\u001b[39;00m\u001b[38;5;21;01mRandom\u001b[39;00m \u001b[38;5;28;01mimport\u001b[39;00m get_random_bytes\n",
      "\u001b[1;31mModuleNotFoundError\u001b[0m: No module named 'Crypto'"
     ]
    }
   ],
   "source": [
    "from Crypto.Cipher import DES\n",
    "from Crypto.Util.Padding import pad, unpad\n",
    "from Crypto.Random import get_random_bytes\n",
    "\n",
    "def des_encrypt(plaintext, key):\n",
    "    cipher = DES.new(key, DES.MODE_CBC)  # Create DES cipher object\n",
    "    ciphertext = cipher.encrypt(pad(plaintext.encode(), DES.block_size))  # Pad plaintext and encrypt\n",
    "    return cipher.iv + ciphertext  # Return IV + ciphertext\n",
    "\n",
    "# Example usage\n",
    "key = get_random_bytes(8)  # Generate 8-byte key for DES\n",
    "plaintext = \"Hello DES!\"\n",
    "ciphertext = des_encrypt(plaintext, key)\n",
    "print(f\"Ciphertext (hex): {ciphertext.hex()}\")"
   ]
  },
  {
   "cell_type": "code",
   "execution_count": 11,
   "metadata": {},
   "outputs": [
    {
     "name": "stdout",
     "output_type": "stream",
     "text": [
      "Decrypted Text: Hello DES!\n"
     ]
    }
   ],
   "source": [
    "def des_decrypt(ciphertext, key):\n",
    "    iv = ciphertext[:DES.block_size]\n",
    "    cipher = DES.new(key, DES.MODE_CBC, iv)\n",
    "    plaintext = unpad(cipher.decrypt(ciphertext[DES.block_size:]), DES.block_size).decode()\n",
    "    return plaintext\n",
    "\n",
    "# Decrypting the previously encrypted message\n",
    "decrypted_text = des_decrypt(ciphertext, key)\n",
    "print(f\"Decrypted Text: {decrypted_text}\")\n"
   ]
  },
  {
   "cell_type": "markdown",
   "metadata": {},
   "source": [
    "# 06. Advanced Encryption Standard (AES)\n",
    "\n",
    "Mathematical Understanding of AES:\n",
    "\n",
    "The Advanced Encryption Standard (AES) is a symmetric-key algorithm that processes data in blocks of 128 bits using keys of 128, 192, or 256 bits. AES operates using several rounds (10, 12, or 14 rounds depending on the key size) that include substitution (S-box), permutation, and mixing steps.\n",
    "\n",
    "The AES encryption process consists of four main stages in each round (except the last round):\n",
    "\n",
    "- SubBytes: Each byte of the data block is substituted using an S-box.\n",
    "- ShiftRows: Rows of the data are shifted by different offsets.\n",
    "- MixColumns: The columns of the data matrix are mixed using a matrix multiplication.\n",
    "- AddRoundKey: The round key is XORed with the data.\n",
    "- The key expansion algorithm is used to generate the round keys from the original key.\n",
    "\n",
    "### Encryption Process:\n",
    "\n",
    "Given a 128-bit block of plaintext and a key (either 128, 192, or 256 bits), AES performs several rounds of substitution, permutation, and mixing operations, depending on the key length.\n",
    "\n",
    "### Python Encryption and Decryption (using pycryptodome library):"
   ]
  },
  {
   "cell_type": "code",
   "execution_count": 12,
   "metadata": {},
   "outputs": [
    {
     "name": "stdout",
     "output_type": "stream",
     "text": [
      "Ciphertext: ed01ba1c4277992a022af23ec3f6b2471cb7d9e73861492bc1dc9c4c041214f9\n"
     ]
    }
   ],
   "source": [
    "from Crypto.Cipher import AES\n",
    "from Crypto.Util.Padding import pad\n",
    "from Crypto.Random import get_random_bytes\n",
    "\n",
    "def aes_encrypt(plaintext, key):\n",
    "    cipher = AES.new(key, AES.MODE_CBC)\n",
    "    ciphertext = cipher.encrypt(pad(plaintext.encode(), AES.block_size))\n",
    "    return cipher.iv + ciphertext\n",
    "\n",
    "# Example usage\n",
    "key = get_random_bytes(16)  # 128-bit key (16 bytes)\n",
    "plaintext = \"Hello AES!\"\n",
    "ciphertext = aes_encrypt(plaintext, key)\n",
    "print(f\"Ciphertext: {ciphertext.hex()}\")\n"
   ]
  },
  {
   "cell_type": "markdown",
   "metadata": {},
   "source": []
  },
  {
   "cell_type": "code",
   "execution_count": 13,
   "metadata": {},
   "outputs": [
    {
     "name": "stdout",
     "output_type": "stream",
     "text": [
      "Decrypted Text: Hello AES!\n"
     ]
    }
   ],
   "source": [
    "from Crypto.Util.Padding import unpad\n",
    "\n",
    "def aes_decrypt(ciphertext, key):\n",
    "    iv = ciphertext[:AES.block_size]\n",
    "    cipher = AES.new(key, AES.MODE_CBC, iv)\n",
    "    plaintext = unpad(cipher.decrypt(ciphertext[AES.block_size:]), AES.block_size).decode()\n",
    "    return plaintext\n",
    "\n",
    "# Decrypting the previously encrypted message\n",
    "decrypted_text = aes_decrypt(ciphertext, key)\n",
    "print(f\"Decrypted Text: {decrypted_text}\")\n"
   ]
  },
  {
   "cell_type": "code",
   "execution_count": null,
   "metadata": {},
   "outputs": [],
   "source": []
  }
 ],
 "metadata": {
  "kernelspec": {
   "display_name": "base",
   "language": "python",
   "name": "python3"
  },
  "language_info": {
   "codemirror_mode": {
    "name": "ipython",
    "version": 3
   },
   "file_extension": ".py",
   "mimetype": "text/x-python",
   "name": "python",
   "nbconvert_exporter": "python",
   "pygments_lexer": "ipython3",
   "version": "3.12.4"
  }
 },
 "nbformat": 4,
 "nbformat_minor": 2
}
