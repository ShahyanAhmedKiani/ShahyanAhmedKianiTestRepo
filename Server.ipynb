{
 "cells": [
  {
   "cell_type": "code",
   "execution_count": null,
   "metadata": {},
   "outputs": [
    {
     "name": "stdout",
     "output_type": "stream",
     "text": [
      "Connected with ('127.0.0.1', 50321)\n",
      "Nickname is shayan\n",
      "Connected with ('127.0.0.1', 51677)\n",
      "Nickname is shaya\n"
     ]
    }
   ],
   "source": [
    "import socket  # Import the socket library to handle network connections.\n",
    "import threading  # Import the threading library to handle multiple clients simultaneously.\n",
    "\n",
    "# Connection Data\n",
    "host = '127.0.0.1'  # The local host address (localhost).\n",
    "port = 55555  # The port on which the server will listen for incoming connections.\n",
    "\n",
    "# Starting Server\n",
    "server = socket.socket(socket.AF_INET, socket.SOCK_STREAM)  # Create a new socket using IPv4 (AF_INET) and TCP (SOCK_STREAM).\n",
    "server.bind((host, port))  # Bind the socket to the specified host and port.\n",
    "server.listen()  # Listen for incoming connections.\n",
    "\n",
    "# Lists For Clients and Their Nicknames\n",
    "clients = []  # List to keep track of all connected client sockets.\n",
    "nicknames = []  # List to keep track of client nicknames.\n",
    "\n",
    "# Sending Messages To All Connected Clients\n",
    "def broadcast(message):\n",
    "    # Function to send a message to all connected clients.\n",
    "    for client in clients:  # Iterate over each client in the clients list.\n",
    "        client.send(message)  # Send the message to the current client.\n",
    "\n",
    "# Handling Messages From Clients\n",
    "def handle(client):\n",
    "    # Function to handle communication with a client.\n",
    "    while True:\n",
    "        try:\n",
    "            # Broadcasting Messages\n",
    "            message = client.recv(1024)  # Receive a message from the client (with a buffer size of 1024 bytes).\n",
    "            broadcast(message)  # Broadcast the received message to all other clients.\n",
    "        except:\n",
    "            # If an error occurs (e.g., client disconnects), handle the exception.\n",
    "            # Removing And Closing Clients\n",
    "            index = clients.index(client)  # Get the index of the client in the clients list.\n",
    "            clients.remove(client)  # Remove the client from the clients list.\n",
    "            client.close()  # Close the client's socket.\n",
    "            nickname = nicknames[index]  # Get the client's nickname from the nicknames list using the index.\n",
    "            broadcast('{} left!'.format(nickname).encode('ascii'))  # Broadcast a message indicating the client has left.\n",
    "            nicknames.remove(nickname)  # Remove the client's nickname from the nicknames list.\n",
    "            break  # Break out of the while loop to stop handling this client.\n",
    "\n",
    "# Receiving / Listening Function\n",
    "def receive():\n",
    "    # Function to accept and handle incoming client connections.\n",
    "    while True:\n",
    "        # Accept Connection\n",
    "        client, address = server.accept()  # Accept a new connection from a client.\n",
    "        print(\"Connected with {}\".format(str(address)))  # Print the address of the connected client.\n",
    "\n",
    "        # Request And Store Nickname\n",
    "        client.send('NICK'.encode('ascii'))  # Send a request for the client to send their nickname.\n",
    "        nickname = client.recv(1024).decode('ascii')  # Receive the client's nickname.\n",
    "        nicknames.append(nickname)  # Add the client's nickname to the nicknames list.\n",
    "        clients.append(client)  # Add the client's socket to the clients list.\n",
    "\n",
    "        # Print And Broadcast Nickname\n",
    "        print(\"Nickname is {}\".format(nickname))  # Print the client's nickname.\n",
    "        broadcast(\"{} joined!\".format(nickname).encode('ascii'))  # Broadcast a message indicating the client has joined.\n",
    "        client.send('Connected to server!'.encode('ascii'))  # Send a confirmation message to the client.\n",
    "\n",
    "        # Start Handling Thread For Client\n",
    "        thread = threading.Thread(target=handle, args=(client,))  # Create a new thread to handle this client.\n",
    "        thread.start()  # Start the new thread.\n",
    "\n",
    "# Start the server to receive and handle clients.\n",
    "receive()\n"
   ]
  },
  {
   "cell_type": "code",
   "execution_count": null,
   "metadata": {},
   "outputs": [],
   "source": []
  }
 ],
 "metadata": {
  "kernelspec": {
   "display_name": "base",
   "language": "python",
   "name": "python3"
  },
  "language_info": {
   "codemirror_mode": {
    "name": "ipython",
    "version": 3
   },
   "file_extension": ".py",
   "mimetype": "text/x-python",
   "name": "python",
   "nbconvert_exporter": "python",
   "pygments_lexer": "ipython3",
   "version": "3.12.4"
  }
 },
 "nbformat": 4,
 "nbformat_minor": 2
}
