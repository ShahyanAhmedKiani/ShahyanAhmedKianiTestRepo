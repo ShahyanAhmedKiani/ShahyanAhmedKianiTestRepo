{
 "cells": [
  {
   "cell_type": "code",
   "execution_count": 1,
   "metadata": {},
   "outputs": [
    {
     "name": "stdout",
     "output_type": "stream",
     "text": [
      "bilal joined!Connected to server!\n"
     ]
    },
    {
     "name": "stdout",
     "output_type": "stream",
     "text": [
      "bilal: zzz\n"
     ]
    }
   ],
   "source": [
    "import socket  # Import the socket library for network communication.\n",
    "import threading  # Import the threading library to handle concurrency.\n",
    "\n",
    "# Choosing Nickname\n",
    "nickname = input(\"Choose your nickname: \")  # Prompt the user to enter a nickname.\n",
    "\n",
    "# Connecting To Server\n",
    "client = socket.socket(socket.AF_INET, socket.SOCK_STREAM)  # Create a new socket object using IPv4 (AF_INET) and TCP (SOCK_STREAM).\n",
    "client.connect(('127.0.0.1', 55555))  # Connect to the server running on localhost (127.0.0.1) at port 55555.\n",
    "\n",
    "# Listening to Server and Sending Nickname\n",
    "def receive():\n",
    "    # Function to listen for incoming messages from the server.\n",
    "    while True:\n",
    "        try:\n",
    "            # Receive Message From Server\n",
    "            message = client.recv(1024).decode('ascii')  # Receive a message from the server with a buffer size of 1024 bytes and decode it from ASCII.\n",
    "\n",
    "            # If 'NICK' Send Nickname\n",
    "            if message == 'NICK':  # If the message from the server is 'NICK',\n",
    "                client.send(nickname.encode('ascii'))  # Send the user's nickname back to the server.\n",
    "            else:\n",
    "                print(message)  # Print any other message received from the server.\n",
    "\n",
    "        except:\n",
    "            # Close Connection When Error\n",
    "            print(\"An error occurred!\")  # Print an error message.\n",
    "            client.close()  # Close the client socket.\n",
    "            break  # Exit the loop and stop listening.\n",
    "\n",
    "# Sending Messages To Server\n",
    "def write():\n",
    "    # Function to send messages from the client to the server.\n",
    "    while True:\n",
    "        # Format the message to include the nickname and input message.\n",
    "        message = '{}: {}'.format(nickname, input(''))  # Format the message with the user's nickname.\n",
    "        client.send(message.encode('ascii'))  # Send the message to the server encoded in ASCII.\n",
    "\n",
    "# Starting Threads For Listening And Writing\n",
    "receive_thread = threading.Thread(target=receive)  # Create a new thread to handle receiving messages from the server.\n",
    "receive_thread.start()  # Start the receive thread.\n",
    "\n",
    "write_thread = threading.Thread(target=write)  # Create a new thread to handle sending messages to the server.\n",
    "write_thread.start()  # Start the write thread.\n"
   ]
  }
 ],
 "metadata": {
  "kernelspec": {
   "display_name": "base",
   "language": "python",
   "name": "python3"
  },
  "language_info": {
   "codemirror_mode": {
    "name": "ipython",
    "version": 3
   },
   "file_extension": ".py",
   "mimetype": "text/x-python",
   "name": "python",
   "nbconvert_exporter": "python",
   "pygments_lexer": "ipython3",
   "version": "3.12.4"
  }
 },
 "nbformat": 4,
 "nbformat_minor": 2
}
